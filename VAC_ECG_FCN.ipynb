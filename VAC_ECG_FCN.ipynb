{
  "nbformat": 4,
  "nbformat_minor": 0,
  "metadata": {
    "colab": {
      "name": "VAC_ECG_02.ipynb",
      "provenance": [],
      "collapsed_sections": []
    },
    "kernelspec": {
      "name": "python3",
      "display_name": "Python 3"
    },
    "language_info": {
      "name": "python"
    },
    "accelerator": "GPU"
  },
  "cells": [
    {
      "cell_type": "markdown",
      "source": [
        "# VAC Classe\n"
      ],
      "metadata": {
        "id": "-bL9e6obbc_2"
      }
    },
    {
      "cell_type": "code",
      "execution_count": 12,
      "metadata": {
        "id": "CTB1NEkFbYW7"
      },
      "outputs": [],
      "source": [
        "import os\n",
        "import pickle\n",
        "\n",
        "from tensorflow.keras import Model\n",
        "from tensorflow.keras.layers import Input, Conv2D, Conv1D, ReLU, BatchNormalization, \\\n",
        "    Flatten, Dense, Reshape, Conv2DTranspose, Conv1DTranspose, Activation, Lambda\n",
        "from tensorflow.keras import backend as K\n",
        "from tensorflow.keras.optimizers import Adam\n",
        "from tensorflow.keras.losses import MeanSquaredError\n",
        "import numpy as np\n",
        "import tensorflow as tf\n",
        "\n",
        "from tensorflow.keras.losses import BinaryCrossentropy\n",
        "\n",
        "tf.compat.v1.disable_eager_execution()\n",
        "\n",
        "class VAE:\n",
        "    \"\"\"\n",
        "    VAE represents a Deep Convolutional variational autoencoder architecture\n",
        "    with mirrored encoder and decoder components.\n",
        "    \"\"\"\n",
        "\n",
        "    def __init__(self,\n",
        "                 input_shape,\n",
        "                 conv_filters,\n",
        "                 conv_kernels,\n",
        "                 conv_strides,\n",
        "                 latent_space_dim):\n",
        "        self.input_shape = input_shape # [1024 1]\n",
        "        self.conv_filters = conv_filters \n",
        "        self.conv_kernels = conv_kernels\n",
        "        self.conv_strides = conv_strides\n",
        "        self.latent_space_dim = latent_space_dim\n",
        "        self.reconstruction_loss_weight = 1000\n",
        "\n",
        "        self.encoder = None\n",
        "        self.decoder = None\n",
        "        self.model = None\n",
        "\n",
        "        self._num_conv_layers = len(conv_filters)\n",
        "        self._shape_before_bottleneck = None\n",
        "        self._model_input = None\n",
        "\n",
        "        self._build()\n",
        "\n",
        "    def summary(self):\n",
        "        self.encoder.summary()\n",
        "        self.decoder.summary()\n",
        "        self.model.summary()\n",
        "\n",
        "    def compile(self, learning_rate=0.0001):\n",
        "        print('In compile.')\n",
        "        optimizer = Adam(learning_rate=learning_rate)\n",
        "        print('Optimizer set.')\n",
        "        self.model.compile(optimizer=optimizer,\n",
        "                           loss=self._calculate_combined_loss)\n",
        "        print('End of compile')\n",
        "\n",
        "    def train(self, x_train, batch_size, num_epochs):\n",
        "        self.model.fit(x_train,\n",
        "                       x_train,\n",
        "                       batch_size = batch_size,\n",
        "                       epochs=num_epochs,\n",
        "                       shuffle=True)\n",
        "\n",
        "    def save(self, save_folder=\".\"):\n",
        "        self._create_folder_if_it_doesnt_exist(save_folder)\n",
        "        self._save_parameters(save_folder)\n",
        "        self._save_weights(save_folder)\n",
        "\n",
        "    def load_weights(self, weights_path):\n",
        "        self.model.load_weights(weights_path)\n",
        "\n",
        "    def reconstruct(self, images):\n",
        "        latent_representations = self.encoder.predict(images)\n",
        "        reconstructed_images = self.decoder.predict(latent_representations)\n",
        "        return reconstructed_images, latent_representations\n",
        "\n",
        "    @classmethod\n",
        "    def load(cls, save_folder=\".\"):\n",
        "        parameters_path = os.path.join(save_folder, \"parameters.pkl\")\n",
        "        with open(parameters_path, \"rb\") as f:\n",
        "            parameters = pickle.load(f)\n",
        "        autoencoder = VAE(*parameters)\n",
        "        weights_path = os.path.join(save_folder, \"weights.h5\")\n",
        "        autoencoder.load_weights(weights_path)\n",
        "        return autoencoder\n",
        "\n",
        "    def _calculate_combined_loss(self, y_target, y_predicted):\n",
        "        reconstruction_loss = self._calculate_reconstruction_loss(y_target, y_predicted)\n",
        "        kl_loss = self._calculate_kl_loss(y_target, y_predicted)\n",
        "        combined_loss = self.reconstruction_loss_weight * reconstruction_loss\\\n",
        "                                                         + kl_loss\n",
        "        return combined_loss\n",
        "\n",
        "    def _calculate_reconstruction_loss(self, y_target, y_predicted):\n",
        "        error = y_target - y_predicted\n",
        "        reconstruction_loss = K.mean(K.square(error), axis=[1,2])\n",
        "        return reconstruction_loss\n",
        "\n",
        "    def _calculate_kl_loss(self, y_target, y_predicted):\n",
        "        kl_loss = -0.5 * K.sum(1 + self.log_variance - K.square(self.mu) -\n",
        "                               K.exp(self.log_variance), axis=1)\n",
        "        return kl_loss\n",
        "\n",
        "    def _create_folder_if_it_doesnt_exist(self, folder):\n",
        "        if not os.path.exists(folder):\n",
        "            os.makedirs(folder)\n",
        "\n",
        "    def _save_parameters(self, save_folder):\n",
        "        parameters = [\n",
        "            self.input_shape,\n",
        "            self.conv_filters,\n",
        "            self.conv_kernels,\n",
        "            self.conv_strides,\n",
        "            self.latent_space_dim\n",
        "        ]\n",
        "        save_path = os.path.join(save_folder, \"parameters.pkl\")\n",
        "        with open(save_path, \"wb\") as f:\n",
        "            pickle.dump(parameters, f)\n",
        "\n",
        "    def _save_weights(self, save_folder):\n",
        "        save_path = os.path.join(save_folder, \"weights.h5\")\n",
        "        self.model.save_weights(save_path)\n",
        "\n",
        "    def _build(self):\n",
        "        self._build_encoder()\n",
        "        print('1-Encoder Built.')\n",
        "        self._build_decoder()\n",
        "        print('1-Decoder Built.')\n",
        "        self._build_autoencoder()\n",
        "\n",
        "    def _build_autoencoder(self):\n",
        "        model_input = self._model_input\n",
        "        model_output = self.decoder(self.encoder(model_input))\n",
        "        self.model = Model(model_input, model_output, name=\"autoencoder\")\n",
        "\n",
        "    def _build_decoder(self):\n",
        "        decoder_input = self._add_decoder_input()\n",
        "        dense_layer = self._add_dense_layer(decoder_input)\n",
        "        reshape_layer = self._add_reshape_layer(dense_layer)\n",
        "        conv_transpose_layers = self._add_conv_transpose_layers(reshape_layer)\n",
        "        decoder_output = self._add_decoder_output(conv_transpose_layers)\n",
        "        self.decoder = Model(decoder_input, decoder_output, name=\"decoder\")\n",
        "\n",
        "    def _add_decoder_input(self):\n",
        "        return Input(shape=self.latent_space_dim, name=\"decoder_input\")\n",
        "\n",
        "    def _add_dense_layer(self, decoder_input):\n",
        "        num_neurons = np.prod(self._shape_before_bottleneck) # [1, 2, 4] -> 8\n",
        "        dense_layer = Dense(num_neurons, name=\"decoder_dense\")(decoder_input)\n",
        "        return dense_layer\n",
        "\n",
        "    def _add_reshape_layer(self, dense_layer):\n",
        "        return Reshape(self._shape_before_bottleneck)(dense_layer)\n",
        "\n",
        "    def _add_conv_transpose_layers(self, x):\n",
        "        \"\"\"Add conv transpose blocks.\"\"\"\n",
        "        # loop through all the conv layers in reverse order and stop at the\n",
        "        # first layer\n",
        "        for layer_index in reversed(range(1, self._num_conv_layers)):\n",
        "            x = self._add_conv_transpose_layer(layer_index, x)\n",
        "        return x\n",
        "\n",
        "    def _add_conv_transpose_layer(self, layer_index, x):\n",
        "        layer_num = self._num_conv_layers - layer_index\n",
        "        conv_transpose_layer = Conv1DTranspose(\n",
        "            filters=self.conv_filters[layer_index],\n",
        "            kernel_size=self.conv_kernels[layer_index],\n",
        "            strides=self.conv_strides[layer_index],\n",
        "            padding=\"same\",\n",
        "            name=f\"decoder_conv_transpose_layer_{layer_num}\"\n",
        "        )\n",
        "        x = conv_transpose_layer(x)\n",
        "        x = ReLU(name=f\"decoder_relu_{layer_num}\")(x)\n",
        "        x = BatchNormalization(name=f\"decoder_bn_{layer_num}\")(x)\n",
        "        return x\n",
        "\n",
        "    def _add_decoder_output(self, x):\n",
        "        conv_transpose_layer = Conv1DTranspose(\n",
        "            filters=1,\n",
        "            kernel_size=self.conv_kernels[0],\n",
        "            strides=self.conv_strides[0],\n",
        "            padding=\"same\",\n",
        "            name=f\"decoder_conv_transpose_layer_{self._num_conv_layers}\"\n",
        "        )\n",
        "        x = conv_transpose_layer(x)\n",
        "        output_layer = Activation(\"sigmoid\", name=\"sigmoid_layer\")(x)\n",
        "        output_layer= x\n",
        "        return output_layer\n",
        "\n",
        "    def _build_encoder(self):\n",
        "        encoder_input = self._add_encoder_input()\n",
        "        conv_layers = self._add_conv_layers(encoder_input)\n",
        "        bottleneck = self._add_bottleneck(conv_layers)\n",
        "        self._model_input = encoder_input\n",
        "        self.encoder = Model(encoder_input, bottleneck, name=\"encoder\")\n",
        "\n",
        "    def _add_encoder_input(self):\n",
        "        return Input(shape=self.input_shape, name=\"encoder_input\")\n",
        "\n",
        "    def _add_conv_layers(self, encoder_input):\n",
        "        \"\"\"Create all convolutional blocks in encoder.\"\"\"\n",
        "        x = encoder_input\n",
        "        for layer_index in range(self._num_conv_layers):\n",
        "            x = self._add_conv_layer(layer_index, x)\n",
        "        return x\n",
        "\n",
        "    def _add_conv_layer(self, layer_index, x):\n",
        "        \"\"\"Add a convolutional block to a graph of layers, consisting of\n",
        "        conv 2d + ReLU + batch normalization.\n",
        "        \"\"\"\n",
        "        layer_number = layer_index + 1\n",
        "        conv_layer = Conv1D(\n",
        "            filters=self.conv_filters[layer_index],\n",
        "            kernel_size=self.conv_kernels[layer_index],\n",
        "            strides=self.conv_strides[layer_index],\n",
        "            padding=\"same\",\n",
        "            name=f\"encoder_conv_layer_{layer_number}\"\n",
        "        )\n",
        "        x = conv_layer(x)\n",
        "        x = ReLU(name=f\"encoder_relu_{layer_number}\")(x)\n",
        "        x = BatchNormalization(name=f\"encoder_bn_{layer_number}\")(x)\n",
        "        return x\n",
        "\n",
        "    def _add_bottleneck(self, x):\n",
        "        \"\"\"Flatten data and add bottleneck with Guassian sampling (Dense\n",
        "        layer).\n",
        "        \"\"\"\n",
        "        self._shape_before_bottleneck = K.int_shape(x)[1:]\n",
        "        x = Flatten()(x)\n",
        "        self.mu = Dense(self.latent_space_dim, name=\"mu\")(x)\n",
        "        self.log_variance = Dense(self.latent_space_dim,\n",
        "                                  name=\"log_variance\")(x)\n",
        "\n",
        "        def sample_point_from_normal_distribution(args):\n",
        "            mu, log_variance = args\n",
        "            epsilon = K.random_normal(shape=K.shape(self.mu), mean=0.,\n",
        "                                      stddev=1.)\n",
        "            sampled_point = mu + K.exp(log_variance / 2) * epsilon\n",
        "            return sampled_point\n",
        "\n",
        "        x = Lambda(sample_point_from_normal_distribution,\n",
        "                   name=\"encoder_output\")([self.mu, self.log_variance])\n",
        "        return x"
      ]
    },
    {
      "cell_type": "markdown",
      "source": [
        "# Import Data"
      ],
      "metadata": {
        "id": "5kolq1_Vbmb2"
      }
    },
    {
      "cell_type": "code",
      "source": [
        "import h5py \n",
        "\n",
        "with h5py.File('/content/drive/MyDrive/KalmanNetProject/meas000.data','r') as hdf:\n",
        "    ls = list(hdf.keys())\n",
        "    print(ls)\n",
        "    data = hdf.get('fetalSignal')\n",
        "    data = np.array(data)\n",
        "    data = data.reshape(6,810000)\n",
        "    print(data.shape)\n",
        "    peaks = hdf.get('fRpeaks')\n",
        "    peaks = np.array(peaks)\n",
        "    peaks = peaks.reshape(1,1631)\n",
        "    print(peaks.shape)"
      ],
      "metadata": {
        "colab": {
          "base_uri": "https://localhost:8080/"
        },
        "id": "EuSi9X4ZbpDM",
        "outputId": "79fa78bf-9e2c-4540-a310-b6307fd1a60b"
      },
      "execution_count": 14,
      "outputs": [
        {
          "output_type": "stream",
          "name": "stdout",
          "text": [
            "['fRpeaks', 'fetalSignal']\n",
            "(6, 810000)\n",
            "(1, 1631)\n"
          ]
        }
      ]
    },
    {
      "cell_type": "code",
      "source": [
        "input_length = 1024\n",
        "number_inputs = 791\n",
        "\n",
        "ecg = data[:,0:input_length*number_inputs]\n",
        "ecg_train = ecg[0:5,:]\n",
        "print('Ecg train shape')\n",
        "print(ecg_train.shape)\n",
        "ecg_train = ecg_train.reshape(5*number_inputs,input_length,1)\n",
        "print(ecg_train.shape)\n",
        "\n",
        "ecg_test = ecg[5:6,:]\n",
        "print('Ecg test shape')\n",
        "print(ecg_test.shape)\n",
        "ecg_test = ecg_test.reshape(1*number_inputs,input_length)\n",
        "print(ecg_test.shape)"
      ],
      "metadata": {
        "id": "8zldMLJBshy8",
        "colab": {
          "base_uri": "https://localhost:8080/"
        },
        "outputId": "35597c8e-1307-4e14-f1ee-c1531b01ef5e"
      },
      "execution_count": 38,
      "outputs": [
        {
          "output_type": "stream",
          "name": "stdout",
          "text": [
            "Ecg train shape\n",
            "(5, 809984)\n",
            "(3955, 1024, 1)\n",
            "Ecg test shape\n",
            "(1, 809984)\n",
            "(791, 1024)\n"
          ]
        }
      ]
    },
    {
      "cell_type": "code",
      "source": [
        "ecg_train = np.nan_to_num(ecg_train)\n",
        "print(ecg_train.shape)\n",
        "ecg_test = np.nan_to_num(ecg_test)\n",
        "print(ecg_test.shape)"
      ],
      "metadata": {
        "colab": {
          "base_uri": "https://localhost:8080/"
        },
        "id": "tGWSkCBR1HXR",
        "outputId": "8562d1ec-23b6-4e93-f622-4df3b88990f4"
      },
      "execution_count": 40,
      "outputs": [
        {
          "output_type": "stream",
          "name": "stdout",
          "text": [
            "(3955, 1024, 1)\n",
            "(791, 1024)\n"
          ]
        }
      ]
    },
    {
      "cell_type": "code",
      "source": [
        "np.count_nonzero(np.isnan(ecg_train))"
      ],
      "metadata": {
        "colab": {
          "base_uri": "https://localhost:8080/"
        },
        "id": "gD-aEvsR1eEV",
        "outputId": "cba1fd2c-862d-4696-8459-a808603adc6f"
      },
      "execution_count": 42,
      "outputs": [
        {
          "output_type": "execute_result",
          "data": {
            "text/plain": [
              "0"
            ]
          },
          "metadata": {},
          "execution_count": 42
        }
      ]
    },
    {
      "cell_type": "markdown",
      "source": [
        "# Main\n"
      ],
      "metadata": {
        "id": "KiA2OZV6r5u-"
      }
    },
    {
      "cell_type": "code",
      "source": [
        "LEARNING_RATE = 0.0001\n",
        "BATCH_SIZE = 32\n",
        "EPOCHS = 10\n",
        "\n",
        "def train(x_train, learning_rate, batch_size, epochs):\n",
        "    autoencoder = VAE(\n",
        "        input_shape=(1024, 1),\n",
        "        conv_filters=(40, 20, 20, 20, 40),\n",
        "        conv_kernels=(16, 16, 16, 16, 16),\n",
        "        conv_strides=(2, 2, 2, 2, 2),\n",
        "        latent_space_dim= 100\n",
        "    )\n",
        "    autoencoder.summary()\n",
        "    print('Before Compile')\n",
        "    autoencoder.compile(learning_rate)\n",
        "    print('Compiled')\n",
        "    autoencoder.train(x_train, batch_size, epochs)\n",
        "    return autoencoder\n",
        "\n",
        "autoencoder = train(ecg_train, LEARNING_RATE, BATCH_SIZE, EPOCHS)\n",
        "autoencoder.save(\"model\")"
      ],
      "metadata": {
        "id": "F3DEdc7ccG2-",
        "colab": {
          "base_uri": "https://localhost:8080/"
        },
        "outputId": "a9cfecc7-e5e1-4af1-83a8-39c8c65eb84a"
      },
      "execution_count": 44,
      "outputs": [
        {
          "output_type": "stream",
          "name": "stdout",
          "text": [
            "1-Encoder Built.\n",
            "1-Decoder Built.\n",
            "Model: \"encoder\"\n",
            "__________________________________________________________________________________________________\n",
            " Layer (type)                   Output Shape         Param #     Connected to                     \n",
            "==================================================================================================\n",
            " encoder_input (InputLayer)     [(None, 1024, 1)]    0           []                               \n",
            "                                                                                                  \n",
            " encoder_conv_layer_1 (Conv1D)  (None, 512, 40)      680         ['encoder_input[0][0]']          \n",
            "                                                                                                  \n",
            " encoder_relu_1 (ReLU)          (None, 512, 40)      0           ['encoder_conv_layer_1[0][0]']   \n",
            "                                                                                                  \n",
            " encoder_bn_1 (BatchNormalizati  (None, 512, 40)     160         ['encoder_relu_1[0][0]']         \n",
            " on)                                                                                              \n",
            "                                                                                                  \n",
            " encoder_conv_layer_2 (Conv1D)  (None, 256, 20)      12820       ['encoder_bn_1[0][0]']           \n",
            "                                                                                                  \n",
            " encoder_relu_2 (ReLU)          (None, 256, 20)      0           ['encoder_conv_layer_2[0][0]']   \n",
            "                                                                                                  \n",
            " encoder_bn_2 (BatchNormalizati  (None, 256, 20)     80          ['encoder_relu_2[0][0]']         \n",
            " on)                                                                                              \n",
            "                                                                                                  \n",
            " encoder_conv_layer_3 (Conv1D)  (None, 128, 20)      6420        ['encoder_bn_2[0][0]']           \n",
            "                                                                                                  \n",
            " encoder_relu_3 (ReLU)          (None, 128, 20)      0           ['encoder_conv_layer_3[0][0]']   \n",
            "                                                                                                  \n",
            " encoder_bn_3 (BatchNormalizati  (None, 128, 20)     80          ['encoder_relu_3[0][0]']         \n",
            " on)                                                                                              \n",
            "                                                                                                  \n",
            " encoder_conv_layer_4 (Conv1D)  (None, 64, 20)       6420        ['encoder_bn_3[0][0]']           \n",
            "                                                                                                  \n",
            " encoder_relu_4 (ReLU)          (None, 64, 20)       0           ['encoder_conv_layer_4[0][0]']   \n",
            "                                                                                                  \n",
            " encoder_bn_4 (BatchNormalizati  (None, 64, 20)      80          ['encoder_relu_4[0][0]']         \n",
            " on)                                                                                              \n",
            "                                                                                                  \n",
            " encoder_conv_layer_5 (Conv1D)  (None, 32, 40)       12840       ['encoder_bn_4[0][0]']           \n",
            "                                                                                                  \n",
            " encoder_relu_5 (ReLU)          (None, 32, 40)       0           ['encoder_conv_layer_5[0][0]']   \n",
            "                                                                                                  \n",
            " encoder_bn_5 (BatchNormalizati  (None, 32, 40)      160         ['encoder_relu_5[0][0]']         \n",
            " on)                                                                                              \n",
            "                                                                                                  \n",
            " flatten_3 (Flatten)            (None, 1280)         0           ['encoder_bn_5[0][0]']           \n",
            "                                                                                                  \n",
            " mu (Dense)                     (None, 100)          128100      ['flatten_3[0][0]']              \n",
            "                                                                                                  \n",
            " log_variance (Dense)           (None, 100)          128100      ['flatten_3[0][0]']              \n",
            "                                                                                                  \n",
            " encoder_output (Lambda)        (None, 100)          0           ['mu[0][0]',                     \n",
            "                                                                  'log_variance[0][0]']           \n",
            "                                                                                                  \n",
            "==================================================================================================\n",
            "Total params: 295,940\n",
            "Trainable params: 295,660\n",
            "Non-trainable params: 280\n",
            "__________________________________________________________________________________________________\n",
            "Model: \"decoder\"\n",
            "_________________________________________________________________\n",
            " Layer (type)                Output Shape              Param #   \n",
            "=================================================================\n",
            " decoder_input (InputLayer)  [(None, 100)]             0         \n",
            "                                                                 \n",
            " decoder_dense (Dense)       (None, 1280)              129280    \n",
            "                                                                 \n",
            " reshape_3 (Reshape)         (None, 32, 40)            0         \n",
            "                                                                 \n",
            " decoder_conv_transpose_laye  (None, 64, 40)           25640     \n",
            " r_1 (Conv1DTranspose)                                           \n",
            "                                                                 \n",
            " decoder_relu_1 (ReLU)       (None, 64, 40)            0         \n",
            "                                                                 \n",
            " decoder_bn_1 (BatchNormaliz  (None, 64, 40)           160       \n",
            " ation)                                                          \n",
            "                                                                 \n",
            " decoder_conv_transpose_laye  (None, 128, 20)          12820     \n",
            " r_2 (Conv1DTranspose)                                           \n",
            "                                                                 \n",
            " decoder_relu_2 (ReLU)       (None, 128, 20)           0         \n",
            "                                                                 \n",
            " decoder_bn_2 (BatchNormaliz  (None, 128, 20)          80        \n",
            " ation)                                                          \n",
            "                                                                 \n",
            " decoder_conv_transpose_laye  (None, 256, 20)          6420      \n",
            " r_3 (Conv1DTranspose)                                           \n",
            "                                                                 \n",
            " decoder_relu_3 (ReLU)       (None, 256, 20)           0         \n",
            "                                                                 \n",
            " decoder_bn_3 (BatchNormaliz  (None, 256, 20)          80        \n",
            " ation)                                                          \n",
            "                                                                 \n",
            " decoder_conv_transpose_laye  (None, 512, 20)          6420      \n",
            " r_4 (Conv1DTranspose)                                           \n",
            "                                                                 \n",
            " decoder_relu_4 (ReLU)       (None, 512, 20)           0         \n",
            "                                                                 \n",
            " decoder_bn_4 (BatchNormaliz  (None, 512, 20)          80        \n",
            " ation)                                                          \n",
            "                                                                 \n",
            " decoder_conv_transpose_laye  (None, 1024, 1)          321       \n",
            " r_5 (Conv1DTranspose)                                           \n",
            "                                                                 \n",
            "=================================================================\n",
            "Total params: 181,301\n",
            "Trainable params: 181,101\n",
            "Non-trainable params: 200\n",
            "_________________________________________________________________\n",
            "Model: \"autoencoder\"\n",
            "_________________________________________________________________\n",
            " Layer (type)                Output Shape              Param #   \n",
            "=================================================================\n",
            " encoder_input (InputLayer)  [(None, 1024, 1)]         0         \n",
            "                                                                 \n",
            " encoder (Functional)        (None, 100)               295940    \n",
            "                                                                 \n",
            " decoder (Functional)        (None, 1024, 1)           181301    \n",
            "                                                                 \n",
            "=================================================================\n",
            "Total params: 477,241\n",
            "Trainable params: 476,761\n",
            "Non-trainable params: 480\n",
            "_________________________________________________________________\n",
            "Before Compile\n",
            "In compile.\n",
            "Optimizer set.\n",
            "End of compile\n",
            "Compiled\n",
            "Train on 3955 samples\n",
            "Epoch 1/10\n",
            "3955/3955 [==============================] - 5s 1ms/sample - loss: 43790603.2405\n",
            "Epoch 2/10\n",
            "3955/3955 [==============================] - 2s 557us/sample - loss: 43780309.5307\n",
            "Epoch 3/10\n",
            "3955/3955 [==============================] - 2s 554us/sample - loss: 43689405.4776\n",
            "Epoch 4/10\n",
            "3955/3955 [==============================] - 2s 562us/sample - loss: 43262852.2051\n",
            "Epoch 5/10\n",
            "3955/3955 [==============================] - 2s 544us/sample - loss: 42826887.7593\n",
            "Epoch 6/10\n",
            "3955/3955 [==============================] - 2s 541us/sample - loss: 42421827.8680\n",
            "Epoch 7/10\n",
            "3955/3955 [==============================] - 2s 540us/sample - loss: 41964108.2144\n",
            "Epoch 8/10\n",
            "3955/3955 [==============================] - 2s 551us/sample - loss: 41490119.8139\n",
            "Epoch 9/10\n",
            "3955/3955 [==============================] - 2s 595us/sample - loss: 40991224.9123\n",
            "Epoch 10/10\n",
            "3955/3955 [==============================] - 2s 566us/sample - loss: 40523488.5067\n"
          ]
        }
      ]
    },
    {
      "cell_type": "code",
      "source": [
        "import matplotlib.pyplot as plt\n",
        "plt.plot(ecg_train[0,:].reshape(1024,1))"
      ],
      "metadata": {
        "colab": {
          "base_uri": "https://localhost:8080/",
          "height": 283
        },
        "id": "dWdtVlKlD-Sx",
        "outputId": "a7d6edf8-13ca-4891-e26a-b1001145d618"
      },
      "execution_count": 45,
      "outputs": [
        {
          "output_type": "execute_result",
          "data": {
            "text/plain": [
              "[<matplotlib.lines.Line2D at 0x7f692449e410>]"
            ]
          },
          "metadata": {},
          "execution_count": 45
        },
        {
          "output_type": "display_data",
          "data": {
            "text/plain": [
              "<Figure size 432x288 with 1 Axes>"
            ],
            "image/png": "[encoded data removed]"
          },
          "metadata": {
            "needs_background": "light"
          }
        }
      ]
    },
    {
      "cell_type": "code",
      "source": [
        "reconstructed = autoencoder.reconstruct(ecg_train[0:1,:])\n",
        "reconstructed[0].shape"
      ],
      "metadata": {
        "colab": {
          "base_uri": "https://localhost:8080/"
        },
        "id": "fB71WYDMdf5z",
        "outputId": "8293dd95-477b-4b43-c37e-36391687b0a0"
      },
      "execution_count": 46,
      "outputs": [
        {
          "output_type": "stream",
          "name": "stderr",
          "text": [
            "/usr/local/lib/python3.7/dist-packages/keras/engine/training_v1.py:2079: UserWarning: `Model.state_updates` will be removed in a future version. This property should not be used in TensorFlow 2.0, as `updates` are applied automatically.\n",
            "  updates=self.state_updates,\n"
          ]
        },
        {
          "output_type": "execute_result",
          "data": {
            "text/plain": [
              "(1, 1024, 1)"
            ]
          },
          "metadata": {},
          "execution_count": 46
        }
      ]
    },
    {
      "cell_type": "code",
      "source": [
        "reconstructed = np.asarray(reconstructed[0])\n",
        "reconstructed.shape"
      ],
      "metadata": {
        "colab": {
          "base_uri": "https://localhost:8080/"
        },
        "id": "xy45dQ2zdpNg",
        "outputId": "cdbc69f7-af61-421c-aa1f-1fb5638c39d8"
      },
      "execution_count": 47,
      "outputs": [
        {
          "output_type": "execute_result",
          "data": {
            "text/plain": [
              "(1, 1024, 1)"
            ]
          },
          "metadata": {},
          "execution_count": 47
        }
      ]
    },
    {
      "cell_type": "code",
      "source": [
        "reconstructed = reconstructed.reshape(1024,1)"
      ],
      "metadata": {
        "id": "bUVHzYBwd_wn"
      },
      "execution_count": 48,
      "outputs": []
    },
    {
      "cell_type": "code",
      "source": [
        "plt.plot(reconstructed)"
      ],
      "metadata": {
        "colab": {
          "base_uri": "https://localhost:8080/",
          "height": 283
        },
        "id": "ULHjFlHIeDkM",
        "outputId": "41f0507d-1a14-412d-acc7-e002265824ca"
      },
      "execution_count": 49,
      "outputs": [
        {
          "output_type": "execute_result",
          "data": {
            "text/plain": [
              "[<matplotlib.lines.Line2D at 0x7f692440da10>]"
            ]
          },
          "metadata": {},
          "execution_count": 49
        },
        {
          "output_type": "display_data",
          "data": {
            "text/plain": [
              "<Figure size 432x288 with 1 Axes>"
            ],
            "image/png": "[encoded data removed]"
          },
          "metadata": {
            "needs_background": "light"
          }
        }
      ]
    },
    {
      "cell_type": "code",
      "source": [
        "import tensorflow as tf"
      ],
      "metadata": {
        "id": "9lt-S9G7eF3V"
      },
      "execution_count": 70,
      "outputs": []
    },
    {
      "cell_type": "code",
      "source": [
        "a = tf.ones((1,4,1))"
      ],
      "metadata": {
        "id": "FvAkiMBxeLpU"
      },
      "execution_count": 73,
      "outputs": []
    },
    {
      "cell_type": "code",
      "source": [
        "print(a)"
      ],
      "metadata": {
        "colab": {
          "base_uri": "https://localhost:8080/"
        },
        "id": "YsNFIy6J6Fvs",
        "outputId": "14327c7e-9c4c-4e0b-c9e9-083196a4ac33"
      },
      "execution_count": 74,
      "outputs": [
        {
          "output_type": "stream",
          "name": "stdout",
          "text": [
            "Tensor(\"ones_5:0\", shape=(1, 4, 1), dtype=float32)\n"
          ]
        }
      ]
    },
    {
      "cell_type": "code",
      "source": [
        "# Compute some values using a Tensor\n",
        "c = tf.constant([[1.0, 2.0], [3.0, 4.0]])\n",
        "d = tf.constant([[1.0, 1.0], [0.0, 1.0]])\n",
        "e = tf.matmul(c, d)\n",
        "print(e)"
      ],
      "metadata": {
        "colab": {
          "base_uri": "https://localhost:8080/"
        },
        "id": "R10e8ZZf6Gji",
        "outputId": "cff1860e-b6a9-4966-a5a2-9c62bdbad100"
      },
      "execution_count": 18,
      "outputs": [
        {
          "output_type": "stream",
          "name": "stdout",
          "text": [
            "Tensor(\"MatMul_2:0\", shape=(2, 2), dtype=float32)\n"
          ]
        }
      ]
    },
    {
      "cell_type": "code",
      "source": [
        "a = K.mean(a, axis = [1])"
      ],
      "metadata": {
        "id": "yGylAFXG884h"
      },
      "execution_count": 77,
      "outputs": []
    },
    {
      "cell_type": "code",
      "source": [
        "a = tf.reshape(a, (1,))"
      ],
      "metadata": {
        "id": "dleE9frFAf48"
      },
      "execution_count": 78,
      "outputs": []
    },
    {
      "cell_type": "code",
      "source": [
        "a"
      ],
      "metadata": {
        "colab": {
          "base_uri": "https://localhost:8080/"
        },
        "id": "FDSxtKPJAggl",
        "outputId": "ada8b9d4-21b6-4481-b868-5059ee4fe744"
      },
      "execution_count": 79,
      "outputs": [
        {
          "output_type": "execute_result",
          "data": {
            "text/plain": [
              "<tf.Tensor 'Reshape_9:0' shape=(1,) dtype=float32>"
            ]
          },
          "metadata": {},
          "execution_count": 79
        }
      ]
    },
    {
      "cell_type": "code",
      "source": [
        "autoencoder.loss"
      ],
      "metadata": {
        "colab": {
          "base_uri": "https://localhost:8080/",
          "height": 168
        },
        "id": "X1elrjFtGjaL",
        "outputId": "5d05db6f-1395-4e50-c14e-63f3f88d08b8"
      },
      "execution_count": 19,
      "outputs": [
        {
          "output_type": "error",
          "ename": "AttributeError",
          "evalue": "ignored",
          "traceback": [
            "\u001b[0;31m---------------------------------------------------------------------------\u001b[0m",
            "\u001b[0;31mAttributeError\u001b[0m                            Traceback (most recent call last)",
            "\u001b[0;32m<ipython-input-19-bd9eeb88ecdf>\u001b[0m in \u001b[0;36m<module>\u001b[0;34m()\u001b[0m\n\u001b[0;32m----> 1\u001b[0;31m \u001b[0mautoencoder\u001b[0m\u001b[0;34m.\u001b[0m\u001b[0mloss\u001b[0m\u001b[0;34m\u001b[0m\u001b[0;34m\u001b[0m\u001b[0m\n\u001b[0m",
            "\u001b[0;31mAttributeError\u001b[0m: 'VAE' object has no attribute 'loss'"
          ]
        }
      ]
    },
    {
      "cell_type": "code",
      "source": [
        "reconstructed"
      ],
      "metadata": {
        "colab": {
          "base_uri": "https://localhost:8080/"
        },
        "id": "BqLyptwnjOJs",
        "outputId": "25f26482-3792-43f2-89c2-7b1c50b44eca"
      },
      "execution_count": 11,
      "outputs": [
        {
          "output_type": "execute_result",
          "data": {
            "text/plain": [
              "array([[nan],\n",
              "       [nan],\n",
              "       [nan],\n",
              "       ...,\n",
              "       [nan],\n",
              "       [nan],\n",
              "       [nan]], dtype=float32)"
            ]
          },
          "metadata": {},
          "execution_count": 11
        }
      ]
    },
    {
      "cell_type": "code",
      "source": [
        "\n",
        "a = np.array([np.nan,1,2,3,4,np.nan])"
      ],
      "metadata": {
        "id": "OjJAaTmbw2Uo"
      },
      "execution_count": 36,
      "outputs": []
    },
    {
      "cell_type": "code",
      "source": [
        "np.count_nonzero(~np.isnan(a))"
      ],
      "metadata": {
        "colab": {
          "base_uri": "https://localhost:8080/"
        },
        "id": "G_6KlLrtz-XL",
        "outputId": "ab7bd56e-311e-4b59-b4c4-5de8e57c07f6"
      },
      "execution_count": 37,
      "outputs": [
        {
          "output_type": "execute_result",
          "data": {
            "text/plain": [
              "4"
            ]
          },
          "metadata": {},
          "execution_count": 37
        }
      ]
    },
    {
      "cell_type": "code",
      "source": [
        ""
      ],
      "metadata": {
        "id": "2MM2cVOS0e9Z"
      },
      "execution_count": null,
      "outputs": []
    }
  ]
}